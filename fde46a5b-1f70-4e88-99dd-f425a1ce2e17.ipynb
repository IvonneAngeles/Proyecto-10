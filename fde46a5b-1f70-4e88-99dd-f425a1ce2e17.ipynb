{
 "cells": [
  {
   "cell_type": "markdown",
   "metadata": {},
   "source": [
    "# Análisis: Coffee Bot"
   ]
  },
  {
   "cell_type": "markdown",
   "metadata": {},
   "source": [
    "# Contenido\n",
    "\n",
    "1. [Descripción del análisis](#Descripción-del-análisis)\n",
    "\n",
    "\n",
    "2. [Descripción de los datos](#Descripción-de-los-datos)\n",
    "\n",
    "\n",
    "3. [Corrección de datos](#Corrección-de-datos)\n",
    "    \n",
    "\n",
    "4. [Análisis de los establecimientos](#Análisis-de-los-establecimentos)\n",
    "\n",
    "\n",
    "5. [Conclusión](#Conclusión)"
   ]
  },
  {
   "cell_type": "markdown",
   "metadata": {},
   "source": [
    "## Descripción del análisis\n",
    "<a id=\"Descripción del análisis\"></a>"
   ]
  },
  {
   "cell_type": "markdown",
   "metadata": {},
   "source": [
    "Coffee Bot es un pequeño café cuya propuesta de valor es ser atendido por robots, este café se ha decidido ubicar en la ciudad de Los Ángeles California. Debido a que el proyecto es prometedor pero caro se realizará un previo análisis de las condiciones actuales del mercado, esto con la finalidad de atraer inversionistas.\n",
    "En este análisis se buscará: \n",
    "1. Investigar las proporciones de los distintos tipos de establecimientos. \n",
    "2. Investigar las proporciones de los establecimientos que pertenecen a una cadena y de los que no.\n",
    "3. El tipo de establecimiento que es habitualmente una cadena.\n",
    "4. Lo que caracteriza a las cadenas: muchos establecimientos con un pequeño número de asientos o unos pocos establecimientos con un montón de asientos.\n",
    "5. El promedio de número de asientos para cada tipo de restaurante.\n",
    "6. Las diez mejores calles por número de restaurantes.\n",
    "7. El número de calles que solo tienen un restaurante.\n",
    "8. La distribución del número de asientos para las calles con muchos restaurantes."
   ]
  },
  {
   "cell_type": "markdown",
   "metadata": {},
   "source": [
    "## Descripción de los datos\n",
    "<a id=\"Descripción de los datos\"></a>"
   ]
  },
  {
   "cell_type": "code",
   "execution_count": 1,
   "metadata": {},
   "outputs": [],
   "source": [
    "# Importamos librerías\n",
    "import pandas as pd\n",
    "import seaborn as sns\n",
    "import matplotlib.pyplot as plt"
   ]
  },
  {
   "cell_type": "code",
   "execution_count": 2,
   "metadata": {},
   "outputs": [],
   "source": [
    "# Carga de datos \n",
    "data = pd.read_csv(\"/datasets/rest_data_us_upd.csv\")"
   ]
  },
  {
   "cell_type": "code",
   "execution_count": 3,
   "metadata": {},
   "outputs": [
    {
     "name": "stdout",
     "output_type": "stream",
     "text": [
      "<class 'pandas.core.frame.DataFrame'>\n",
      "RangeIndex: 9651 entries, 0 to 9650\n",
      "Data columns (total 6 columns):\n",
      " #   Column       Non-Null Count  Dtype \n",
      "---  ------       --------------  ----- \n",
      " 0   id           9651 non-null   int64 \n",
      " 1   object_name  9651 non-null   object\n",
      " 2   address      9651 non-null   object\n",
      " 3   chain        9648 non-null   object\n",
      " 4   object_type  9651 non-null   object\n",
      " 5   number       9651 non-null   int64 \n",
      "dtypes: int64(2), object(4)\n",
      "memory usage: 452.5+ KB\n"
     ]
    }
   ],
   "source": [
    "# Vista general de los datos\n",
    "data.info()"
   ]
  },
  {
   "cell_type": "code",
   "execution_count": 4,
   "metadata": {},
   "outputs": [
    {
     "data": {
      "text/html": [
       "<div>\n",
       "<style scoped>\n",
       "    .dataframe tbody tr th:only-of-type {\n",
       "        vertical-align: middle;\n",
       "    }\n",
       "\n",
       "    .dataframe tbody tr th {\n",
       "        vertical-align: top;\n",
       "    }\n",
       "\n",
       "    .dataframe thead th {\n",
       "        text-align: right;\n",
       "    }\n",
       "</style>\n",
       "<table border=\"1\" class=\"dataframe\">\n",
       "  <thead>\n",
       "    <tr style=\"text-align: right;\">\n",
       "      <th></th>\n",
       "      <th>id</th>\n",
       "      <th>object_name</th>\n",
       "      <th>address</th>\n",
       "      <th>chain</th>\n",
       "      <th>object_type</th>\n",
       "      <th>number</th>\n",
       "    </tr>\n",
       "  </thead>\n",
       "  <tbody>\n",
       "    <tr>\n",
       "      <th>0</th>\n",
       "      <td>11786</td>\n",
       "      <td>HABITAT COFFEE SHOP</td>\n",
       "      <td>3708 N EAGLE ROCK BLVD</td>\n",
       "      <td>False</td>\n",
       "      <td>Cafe</td>\n",
       "      <td>26</td>\n",
       "    </tr>\n",
       "    <tr>\n",
       "      <th>1</th>\n",
       "      <td>11787</td>\n",
       "      <td>REILLY'S</td>\n",
       "      <td>100 WORLD WAY 120</td>\n",
       "      <td>False</td>\n",
       "      <td>Restaurant</td>\n",
       "      <td>9</td>\n",
       "    </tr>\n",
       "    <tr>\n",
       "      <th>2</th>\n",
       "      <td>11788</td>\n",
       "      <td>STREET CHURROS</td>\n",
       "      <td>6801 HOLLYWOOD BLVD 253</td>\n",
       "      <td>False</td>\n",
       "      <td>Fast Food</td>\n",
       "      <td>20</td>\n",
       "    </tr>\n",
       "    <tr>\n",
       "      <th>3</th>\n",
       "      <td>11789</td>\n",
       "      <td>TRINITI ECHO PARK</td>\n",
       "      <td>1814 W SUNSET BLVD</td>\n",
       "      <td>False</td>\n",
       "      <td>Restaurant</td>\n",
       "      <td>22</td>\n",
       "    </tr>\n",
       "    <tr>\n",
       "      <th>4</th>\n",
       "      <td>11790</td>\n",
       "      <td>POLLEN</td>\n",
       "      <td>2100 ECHO PARK AVE</td>\n",
       "      <td>False</td>\n",
       "      <td>Restaurant</td>\n",
       "      <td>20</td>\n",
       "    </tr>\n",
       "    <tr>\n",
       "      <th>5</th>\n",
       "      <td>11791</td>\n",
       "      <td>THE SPOT GRILL</td>\n",
       "      <td>10004 NATIONAL BLVD</td>\n",
       "      <td>False</td>\n",
       "      <td>Restaurant</td>\n",
       "      <td>14</td>\n",
       "    </tr>\n",
       "    <tr>\n",
       "      <th>6</th>\n",
       "      <td>11792</td>\n",
       "      <td>CPK</td>\n",
       "      <td>100 WORLD WAY 126</td>\n",
       "      <td>False</td>\n",
       "      <td>Restaurant</td>\n",
       "      <td>100</td>\n",
       "    </tr>\n",
       "    <tr>\n",
       "      <th>7</th>\n",
       "      <td>11793</td>\n",
       "      <td>PHO LALA</td>\n",
       "      <td>3500 W 6TH ST STE 226</td>\n",
       "      <td>False</td>\n",
       "      <td>Restaurant</td>\n",
       "      <td>7</td>\n",
       "    </tr>\n",
       "    <tr>\n",
       "      <th>8</th>\n",
       "      <td>11794</td>\n",
       "      <td>ABC DONUTS</td>\n",
       "      <td>3027 N SAN FERNANDO RD UNIT 103</td>\n",
       "      <td>True</td>\n",
       "      <td>Fast Food</td>\n",
       "      <td>1</td>\n",
       "    </tr>\n",
       "    <tr>\n",
       "      <th>9</th>\n",
       "      <td>11795</td>\n",
       "      <td>UPSTAIRS</td>\n",
       "      <td>3707 N CAHUENGA BLVD</td>\n",
       "      <td>False</td>\n",
       "      <td>Restaurant</td>\n",
       "      <td>35</td>\n",
       "    </tr>\n",
       "  </tbody>\n",
       "</table>\n",
       "</div>"
      ],
      "text/plain": [
       "      id          object_name                          address  chain  \\\n",
       "0  11786  HABITAT COFFEE SHOP           3708 N EAGLE ROCK BLVD  False   \n",
       "1  11787             REILLY'S                100 WORLD WAY 120  False   \n",
       "2  11788       STREET CHURROS          6801 HOLLYWOOD BLVD 253  False   \n",
       "3  11789    TRINITI ECHO PARK               1814 W SUNSET BLVD  False   \n",
       "4  11790               POLLEN               2100 ECHO PARK AVE  False   \n",
       "5  11791       THE SPOT GRILL              10004 NATIONAL BLVD  False   \n",
       "6  11792                  CPK                100 WORLD WAY 126  False   \n",
       "7  11793             PHO LALA            3500 W 6TH ST STE 226  False   \n",
       "8  11794           ABC DONUTS  3027 N SAN FERNANDO RD UNIT 103   True   \n",
       "9  11795             UPSTAIRS             3707 N CAHUENGA BLVD  False   \n",
       "\n",
       "  object_type  number  \n",
       "0        Cafe      26  \n",
       "1  Restaurant       9  \n",
       "2   Fast Food      20  \n",
       "3  Restaurant      22  \n",
       "4  Restaurant      20  \n",
       "5  Restaurant      14  \n",
       "6  Restaurant     100  \n",
       "7  Restaurant       7  \n",
       "8   Fast Food       1  \n",
       "9  Restaurant      35  "
      ]
     },
     "execution_count": 4,
     "metadata": {},
     "output_type": "execute_result"
    }
   ],
   "source": [
    "# 10 primeras filas \n",
    "data.head(10)"
   ]
  },
  {
   "cell_type": "markdown",
   "metadata": {},
   "source": [
    "Al observar la información general a simple vista se puede observar que únicamente existen valores ausentes en una columna, el dataset cuenta con 6 columnas y 9651 filas. "
   ]
  },
  {
   "cell_type": "markdown",
   "metadata": {},
   "source": [
    "## Corrección de datos\n",
    "<a id=\"Corrección de datos\"></a>"
   ]
  },
  {
   "cell_type": "code",
   "execution_count": 5,
   "metadata": {},
   "outputs": [
    {
     "name": "stdout",
     "output_type": "stream",
     "text": [
      "0\n"
     ]
    }
   ],
   "source": [
    "# Buscamos datos duplicados\n",
    "print(data.duplicated().sum())"
   ]
  },
  {
   "cell_type": "code",
   "execution_count": 6,
   "metadata": {},
   "outputs": [
    {
     "name": "stdout",
     "output_type": "stream",
     "text": [
      "id             0\n",
      "object_name    0\n",
      "address        0\n",
      "chain          3\n",
      "object_type    0\n",
      "number         0\n",
      "dtype: int64\n"
     ]
    }
   ],
   "source": [
    "# Buscamos valores ausentes\n",
    "print(data.isna().sum())"
   ]
  },
  {
   "cell_type": "code",
   "execution_count": 7,
   "metadata": {},
   "outputs": [
    {
     "name": "stdout",
     "output_type": "stream",
     "text": [
      "         id              object_name               address chain object_type  \\\n",
      "7408  19194  TAQUERIA LOS 3 CARNALES  5000 E WHITTIER BLVD   NaN  Restaurant   \n",
      "7523  19309     JAMMIN JIMMY'S PIZZA   1641 FIRESTONE BLVD   NaN       Pizza   \n",
      "8648  20434    THE LEXINGTON THEATER          129 E 3RD ST   NaN  Restaurant   \n",
      "\n",
      "      number  \n",
      "7408      14  \n",
      "7523       1  \n",
      "8648      35  \n"
     ]
    }
   ],
   "source": [
    "# Mostramos cuantos valores ausentes tiene year_of_release\n",
    "print(data[data[\"chain\"].isna()])"
   ]
  },
  {
   "cell_type": "code",
   "execution_count": 8,
   "metadata": {},
   "outputs": [],
   "source": [
    "# Rellenamos los valores ausentes \n",
    "data[\"chain\"].fillna(\"False\", inplace=True)"
   ]
  },
  {
   "cell_type": "code",
   "execution_count": 9,
   "metadata": {},
   "outputs": [
    {
     "name": "stdout",
     "output_type": "stream",
     "text": [
      "id             0\n",
      "object_name    0\n",
      "address        0\n",
      "chain          0\n",
      "object_type    0\n",
      "number         0\n",
      "dtype: int64\n"
     ]
    }
   ],
   "source": [
    "# Comprobamos los valores ausentes\n",
    "print(data.isna().sum())"
   ]
  },
  {
   "cell_type": "code",
   "execution_count": 10,
   "metadata": {},
   "outputs": [
    {
     "name": "stdout",
     "output_type": "stream",
     "text": [
      "bool\n"
     ]
    }
   ],
   "source": [
    "# Cambiamos el tipo de dato de la columna chain\n",
    "data[\"chain\"] = data[\"chain\"].astype(\"bool\")\n",
    "print(data[\"chain\"].dtype)"
   ]
  },
  {
   "cell_type": "markdown",
   "metadata": {},
   "source": [
    "Para la corrección de los datos primero se buscaron valores duplicados y valores ausentes, al solo encontrar valores ausentes estos fueron cambiados por el valor False, esto debido a que estos establecimientos no pertenecen a cadenas, y por último se cambió el tipo de valores de la columna \"chain\". "
   ]
  },
  {
   "cell_type": "markdown",
   "metadata": {},
   "source": [
    "## Análisis de los estabecimientos\n",
    "<a id=\"Análisis de los establecimientos\"></a>"
   ]
  },
  {
   "cell_type": "markdown",
   "metadata": {},
   "source": [
    "**Investiga las proporciones de los distintos tipos de establecimientos.**"
   ]
  },
  {
   "cell_type": "code",
   "execution_count": 11,
   "metadata": {},
   "outputs": [],
   "source": [
    "# Elegimos un estilo para los graficos\n",
    "sns.set_style(\"whitegrid\")\n",
    "# Elegimos la paleta de colores \n",
    "sns.set_palette(\"Paired\")"
   ]
  },
  {
   "cell_type": "code",
   "execution_count": 12,
   "metadata": {},
   "outputs": [
    {
     "data": {
      "image/png": "[encoded data removed]",
      "text/plain": [
       "<Figure size 640x480 with 1 Axes>"
      ]
     },
     "metadata": {},
     "output_type": "display_data"
    }
   ],
   "source": [
    "# Grafica de los tipos de establecimiento \n",
    "sorted_data = data.sort_values(by=\"object_type\")\n",
    "sns.countplot(data=sorted_data, x=\"object_type\")\n",
    "# Agragamos titulo y nombre de los ejes\n",
    "plt.title(\"Tipos de establecimientos\")\n",
    "plt.xlabel(\"Establecimiento\")\n",
    "plt.ylabel(\"Cantidad\")\n",
    "plt.show()"
   ]
  },
  {
   "cell_type": "markdown",
   "metadata": {},
   "source": [
    "Como podemos observar en el grafico el establecimiento que más predomina en la ciudad de Los Ángeles son los restaurantes, para las cafeterías esto es distinto ya que existen poco menos de 1000 de ellos en la ciudad."
   ]
  },
  {
   "cell_type": "markdown",
   "metadata": {},
   "source": [
    "**Investiga las proporciones de los establecimientos que pertenecen a una cadena y de los que no.**"
   ]
  },
  {
   "cell_type": "code",
   "execution_count": 18,
   "metadata": {},
   "outputs": [
    {
     "data": {
      "text/plain": [
       "False    5972\n",
       "True     3679\n",
       "Name: chain, dtype: int64"
      ]
     },
     "execution_count": 18,
     "metadata": {},
     "output_type": "execute_result"
    }
   ],
   "source": [
    "# Buscamos la cantidad de establecimientos de cadena y no cadena \n",
    "chain_counts = data[\"chain\"].value_counts()\n",
    "chain_counts"
   ]
  },
  {
   "cell_type": "code",
   "execution_count": 23,
   "metadata": {},
   "outputs": [
    {
     "data": {
      "image/png": "[encoded data removed]",
      "text/plain": [
       "<Figure size 600x600 with 1 Axes>"
      ]
     },
     "metadata": {},
     "output_type": "display_data"
    }
   ],
   "source": [
    "# Nombramos etiquetas y valores \n",
    "labels = [\"No es cadena\", \"Cadena\"]\n",
    "values = chain_counts.values\n",
    "colors = [\"#40739e\", \"#44bd32\"]\n",
    "# Grafica circular\n",
    "plt.figure(figsize=(6,6))\n",
    "plt.pie(values, labels=labels, colors=colors, autopct=\"%1.1f%%\", startangle=90)\n",
    "# Agregamos titulo al grafico\n",
    "plt.title(\"Proporción de establecimientos de cadenas vs no cadenas\")\n",
    "plt.show()"
   ]
  },
  {
   "cell_type": "markdown",
   "metadata": {},
   "source": [
    "En la gráfica podemos ver que los establecimientos que no pertenecen a alguna cadena representan el 61.9% de los establecimientos totales en Los Ángeles, mientras que los establecimientos que pertenecen a cadenas solo representan el 38.1%. Esto nos dice que la tendencia en los establecimientos es no pertenecer a alguna cadena.  "
   ]
  },
  {
   "cell_type": "markdown",
   "metadata": {},
   "source": [
    "**¿Qué tipo de establecimiento es habitualmente una cadena?**"
   ]
  },
  {
   "cell_type": "code",
   "execution_count": 27,
   "metadata": {},
   "outputs": [
    {
     "data": {
      "text/html": [
       "<div>\n",
       "<style scoped>\n",
       "    .dataframe tbody tr th:only-of-type {\n",
       "        vertical-align: middle;\n",
       "    }\n",
       "\n",
       "    .dataframe tbody tr th {\n",
       "        vertical-align: top;\n",
       "    }\n",
       "\n",
       "    .dataframe thead th {\n",
       "        text-align: right;\n",
       "    }\n",
       "</style>\n",
       "<table border=\"1\" class=\"dataframe\">\n",
       "  <thead>\n",
       "    <tr style=\"text-align: right;\">\n",
       "      <th></th>\n",
       "      <th>object_type</th>\n",
       "      <th>total</th>\n",
       "    </tr>\n",
       "  </thead>\n",
       "  <tbody>\n",
       "    <tr>\n",
       "      <th>0</th>\n",
       "      <td>Bakery</td>\n",
       "      <td>283</td>\n",
       "    </tr>\n",
       "    <tr>\n",
       "      <th>1</th>\n",
       "      <td>Bar</td>\n",
       "      <td>77</td>\n",
       "    </tr>\n",
       "    <tr>\n",
       "      <th>2</th>\n",
       "      <td>Cafe</td>\n",
       "      <td>266</td>\n",
       "    </tr>\n",
       "    <tr>\n",
       "      <th>3</th>\n",
       "      <td>Fast Food</td>\n",
       "      <td>605</td>\n",
       "    </tr>\n",
       "    <tr>\n",
       "      <th>4</th>\n",
       "      <td>Pizza</td>\n",
       "      <td>154</td>\n",
       "    </tr>\n",
       "    <tr>\n",
       "      <th>5</th>\n",
       "      <td>Restaurant</td>\n",
       "      <td>2294</td>\n",
       "    </tr>\n",
       "  </tbody>\n",
       "</table>\n",
       "</div>"
      ],
      "text/plain": [
       "  object_type  total\n",
       "0      Bakery    283\n",
       "1         Bar     77\n",
       "2        Cafe    266\n",
       "3   Fast Food    605\n",
       "4       Pizza    154\n",
       "5  Restaurant   2294"
      ]
     },
     "execution_count": 27,
     "metadata": {},
     "output_type": "execute_result"
    }
   ],
   "source": [
    "# Filtramos para encontrar solo los True\n",
    "filtered_chain = data[data[\"chain\"] == True]\n",
    "chain_establishment = filtered_chain.groupby(\"object_type\")[\"chain\"].count()\n",
    "chain_establishment = chain_establishment.reset_index()\n",
    "chain_establishment.columns = [\"object_type\", \"total\"]\n",
    "chain_establishment"
   ]
  },
  {
   "cell_type": "code",
   "execution_count": 28,
   "metadata": {},
   "outputs": [
    {
     "data": {
      "image/png": "[encoded data removed]",
      "text/plain": [
       "<Figure size 640x480 with 1 Axes>"
      ]
     },
     "metadata": {},
     "output_type": "display_data"
    }
   ],
   "source": [
    "# Grafica de los establecimientos que son cadena\n",
    "sns.barplot(data=chain_establishment.sort_values(\"total\"), x=\"object_type\", y=\"total\")\n",
    "# Agregamos titulo y nombre a los ejes\n",
    "plt.title(\"Establecimientos que son cadena\")\n",
    "plt.xlabel(\"Establecimientos\")\n",
    "plt.ylabel(\"Total\")\n",
    "plt.show()"
   ]
  },
  {
   "cell_type": "markdown",
   "metadata": {},
   "source": [
    "De los establecimientos que más son cadenas en comparación con los demás los restaurantes están en la primera posición, seguido por la comida rápida, para las cafeterías solo existen 266 que pertenecen a las cadenas."
   ]
  },
  {
   "cell_type": "markdown",
   "metadata": {},
   "source": [
    "**¿Qué caracteriza a las cadenas: muchos establecimientos con un pequeño número de asientos o unos pocos establecimientos con un montón de asientos?**"
   ]
  },
  {
   "cell_type": "code",
   "execution_count": 29,
   "metadata": {},
   "outputs": [
    {
     "data": {
      "image/png": "[encoded data removed]",
      "text/plain": [
       "<Figure size 640x480 with 1 Axes>"
      ]
     },
     "metadata": {},
     "output_type": "display_data"
    }
   ],
   "source": [
    "# Grafica de establecimientos por asientos\n",
    "sns.barplot(x=\"chain\", y=\"number\", hue=\"object_type\", data=data, estimator=sum)\n",
    "# Agregamos titulo y nombre a los ejes\n",
    "plt.title(\"Número de asientos en cadenas vs no cadenas\")\n",
    "plt.xlabel(\"Pertenencia a cadena\")\n",
    "plt.ylabel(\"Número de asientos\")\n",
    "plt.show()"
   ]
  },
  {
   "cell_type": "markdown",
   "metadata": {},
   "source": [
    "Como podemos ver en la gráfica los establecimientos que pertenecen a una cadena tiene menos asientos que los que no pertenecen a alguna cadena. Los restaurantes que no pertecen a las cadenas son los que en conjunto tiene más asientos, considerando que los restaurantes representan una cantidad considerale del total de establecimientos."
   ]
  },
  {
   "cell_type": "markdown",
   "metadata": {},
   "source": [
    "**Determina el promedio de número de asientos para cada tipo de restaurante. De promedio, ¿qué tipo de restaurante tiene el mayor número de asientos?**"
   ]
  },
  {
   "cell_type": "code",
   "execution_count": 41,
   "metadata": {},
   "outputs": [
    {
     "data": {
      "text/html": [
       "<div>\n",
       "<style scoped>\n",
       "    .dataframe tbody tr th:only-of-type {\n",
       "        vertical-align: middle;\n",
       "    }\n",
       "\n",
       "    .dataframe tbody tr th {\n",
       "        vertical-align: top;\n",
       "    }\n",
       "\n",
       "    .dataframe thead th {\n",
       "        text-align: right;\n",
       "    }\n",
       "</style>\n",
       "<table border=\"1\" class=\"dataframe\">\n",
       "  <thead>\n",
       "    <tr style=\"text-align: right;\">\n",
       "      <th></th>\n",
       "      <th>object_type</th>\n",
       "      <th>average</th>\n",
       "    </tr>\n",
       "  </thead>\n",
       "  <tbody>\n",
       "    <tr>\n",
       "      <th>0</th>\n",
       "      <td>Bakery</td>\n",
       "      <td>21.77</td>\n",
       "    </tr>\n",
       "    <tr>\n",
       "      <th>1</th>\n",
       "      <td>Cafe</td>\n",
       "      <td>25.00</td>\n",
       "    </tr>\n",
       "    <tr>\n",
       "      <th>2</th>\n",
       "      <td>Pizza</td>\n",
       "      <td>28.46</td>\n",
       "    </tr>\n",
       "    <tr>\n",
       "      <th>3</th>\n",
       "      <td>Fast Food</td>\n",
       "      <td>31.84</td>\n",
       "    </tr>\n",
       "    <tr>\n",
       "      <th>4</th>\n",
       "      <td>Bar</td>\n",
       "      <td>44.77</td>\n",
       "    </tr>\n",
       "    <tr>\n",
       "      <th>5</th>\n",
       "      <td>Restaurant</td>\n",
       "      <td>48.04</td>\n",
       "    </tr>\n",
       "  </tbody>\n",
       "</table>\n",
       "</div>"
      ],
      "text/plain": [
       "  object_type  average\n",
       "0      Bakery    21.77\n",
       "1        Cafe    25.00\n",
       "2       Pizza    28.46\n",
       "3   Fast Food    31.84\n",
       "4         Bar    44.77\n",
       "5  Restaurant    48.04"
      ]
     },
     "execution_count": 41,
     "metadata": {},
     "output_type": "execute_result"
    }
   ],
   "source": [
    "# Calcularmos el promedio de asientos por tipo de restaurante\n",
    "average_seats = data.groupby(\"object_type\")[\"number\"].mean().sort_values()\n",
    "average_seats = average_seats.reset_index()\n",
    "average_seats.columns = [\"object_type\", \"average\"]\n",
    "average_seats.round(2)"
   ]
  },
  {
   "cell_type": "code",
   "execution_count": 42,
   "metadata": {},
   "outputs": [
    {
     "data": {
      "image/png": "[encoded data removed]",
      "text/plain": [
       "<Figure size 640x480 with 1 Axes>"
      ]
     },
     "metadata": {},
     "output_type": "display_data"
    }
   ],
   "source": [
    "# Grafica de el promedio de asientos por tipo de restaurante\n",
    "sns.barplot(data=average_seats, x=\"object_type\", y=\"average\")\n",
    "# Agremanos titulo y nombre de ejes\n",
    "plt.title(\"Promedio de asientos por tipo de restaurante\")\n",
    "plt.xlabel(\"Estableciento\")\n",
    "plt.ylabel(\"Promedio de Asientos\")\n",
    "plt.show()"
   ]
  },
  {
   "cell_type": "markdown",
   "metadata": {},
   "source": [
    "En promedio las cafeterías son el segundo establecimiento que menos tiene asientos con un promedio de 25 asientos por cafetería. Las panaderias son de los establecimientos que menos tienen asientos con un promedio de 22 asientos. Los bares y los restaurantes son los en promedio tiene más asientos."
   ]
  },
  {
   "cell_type": "markdown",
   "metadata": {},
   "source": [
    "**Coloca los datos de los nombres de las calles de la columna address en una columna separada.**"
   ]
  },
  {
   "cell_type": "code",
   "execution_count": 30,
   "metadata": {},
   "outputs": [
    {
     "data": {
      "text/html": [
       "<div>\n",
       "<style scoped>\n",
       "    .dataframe tbody tr th:only-of-type {\n",
       "        vertical-align: middle;\n",
       "    }\n",
       "\n",
       "    .dataframe tbody tr th {\n",
       "        vertical-align: top;\n",
       "    }\n",
       "\n",
       "    .dataframe thead th {\n",
       "        text-align: right;\n",
       "    }\n",
       "</style>\n",
       "<table border=\"1\" class=\"dataframe\">\n",
       "  <thead>\n",
       "    <tr style=\"text-align: right;\">\n",
       "      <th></th>\n",
       "      <th>id</th>\n",
       "      <th>object_name</th>\n",
       "      <th>address</th>\n",
       "      <th>chain</th>\n",
       "      <th>object_type</th>\n",
       "      <th>number</th>\n",
       "      <th>street</th>\n",
       "    </tr>\n",
       "  </thead>\n",
       "  <tbody>\n",
       "    <tr>\n",
       "      <th>0</th>\n",
       "      <td>11786</td>\n",
       "      <td>HABITAT COFFEE SHOP</td>\n",
       "      <td>3708 N EAGLE ROCK BLVD</td>\n",
       "      <td>False</td>\n",
       "      <td>Cafe</td>\n",
       "      <td>26</td>\n",
       "      <td>N EAGLE ROCK BLVD</td>\n",
       "    </tr>\n",
       "    <tr>\n",
       "      <th>1</th>\n",
       "      <td>11787</td>\n",
       "      <td>REILLY'S</td>\n",
       "      <td>100 WORLD WAY 120</td>\n",
       "      <td>False</td>\n",
       "      <td>Restaurant</td>\n",
       "      <td>9</td>\n",
       "      <td>WORLD WAY 120</td>\n",
       "    </tr>\n",
       "    <tr>\n",
       "      <th>2</th>\n",
       "      <td>11788</td>\n",
       "      <td>STREET CHURROS</td>\n",
       "      <td>6801 HOLLYWOOD BLVD 253</td>\n",
       "      <td>False</td>\n",
       "      <td>Fast Food</td>\n",
       "      <td>20</td>\n",
       "      <td>HOLLYWOOD BLVD 253</td>\n",
       "    </tr>\n",
       "    <tr>\n",
       "      <th>3</th>\n",
       "      <td>11789</td>\n",
       "      <td>TRINITI ECHO PARK</td>\n",
       "      <td>1814 W SUNSET BLVD</td>\n",
       "      <td>False</td>\n",
       "      <td>Restaurant</td>\n",
       "      <td>22</td>\n",
       "      <td>W SUNSET BLVD</td>\n",
       "    </tr>\n",
       "    <tr>\n",
       "      <th>4</th>\n",
       "      <td>11790</td>\n",
       "      <td>POLLEN</td>\n",
       "      <td>2100 ECHO PARK AVE</td>\n",
       "      <td>False</td>\n",
       "      <td>Restaurant</td>\n",
       "      <td>20</td>\n",
       "      <td>ECHO PARK AVE</td>\n",
       "    </tr>\n",
       "  </tbody>\n",
       "</table>\n",
       "</div>"
      ],
      "text/plain": [
       "      id          object_name                  address  chain object_type  \\\n",
       "0  11786  HABITAT COFFEE SHOP   3708 N EAGLE ROCK BLVD  False        Cafe   \n",
       "1  11787             REILLY'S        100 WORLD WAY 120  False  Restaurant   \n",
       "2  11788       STREET CHURROS  6801 HOLLYWOOD BLVD 253  False   Fast Food   \n",
       "3  11789    TRINITI ECHO PARK       1814 W SUNSET BLVD  False  Restaurant   \n",
       "4  11790               POLLEN       2100 ECHO PARK AVE  False  Restaurant   \n",
       "\n",
       "   number              street  \n",
       "0      26   N EAGLE ROCK BLVD  \n",
       "1       9       WORLD WAY 120  \n",
       "2      20  HOLLYWOOD BLVD 253  \n",
       "3      22       W SUNSET BLVD  \n",
       "4      20       ECHO PARK AVE  "
      ]
     },
     "execution_count": 30,
     "metadata": {},
     "output_type": "execute_result"
    }
   ],
   "source": [
    "# Creamos una columna con los nombres de las calles\n",
    "data[\"street\"] = data[\"address\"].str.split(n=1).str[1]\n",
    "data.head()"
   ]
  },
  {
   "cell_type": "markdown",
   "metadata": {},
   "source": [
    "**Traza un gráfico de las diez mejores calles por número de restaurantes.**"
   ]
  },
  {
   "cell_type": "code",
   "execution_count": 31,
   "metadata": {},
   "outputs": [
    {
     "data": {
      "text/html": [
       "<div>\n",
       "<style scoped>\n",
       "    .dataframe tbody tr th:only-of-type {\n",
       "        vertical-align: middle;\n",
       "    }\n",
       "\n",
       "    .dataframe tbody tr th {\n",
       "        vertical-align: top;\n",
       "    }\n",
       "\n",
       "    .dataframe thead th {\n",
       "        text-align: right;\n",
       "    }\n",
       "</style>\n",
       "<table border=\"1\" class=\"dataframe\">\n",
       "  <thead>\n",
       "    <tr style=\"text-align: right;\">\n",
       "      <th></th>\n",
       "      <th>street</th>\n",
       "      <th>total</th>\n",
       "    </tr>\n",
       "  </thead>\n",
       "  <tbody>\n",
       "    <tr>\n",
       "      <th>0</th>\n",
       "      <td>W SUNSET BLVD</td>\n",
       "      <td>296</td>\n",
       "    </tr>\n",
       "    <tr>\n",
       "      <th>1</th>\n",
       "      <td>W PICO BLVD</td>\n",
       "      <td>288</td>\n",
       "    </tr>\n",
       "    <tr>\n",
       "      <th>2</th>\n",
       "      <td>HOLLYWOOD BLVD</td>\n",
       "      <td>167</td>\n",
       "    </tr>\n",
       "    <tr>\n",
       "      <th>3</th>\n",
       "      <td>WILSHIRE BLVD</td>\n",
       "      <td>161</td>\n",
       "    </tr>\n",
       "    <tr>\n",
       "      <th>4</th>\n",
       "      <td>S VERMONT AVE</td>\n",
       "      <td>148</td>\n",
       "    </tr>\n",
       "    <tr>\n",
       "      <th>5</th>\n",
       "      <td>SANTA MONICA BLVD</td>\n",
       "      <td>146</td>\n",
       "    </tr>\n",
       "    <tr>\n",
       "      <th>6</th>\n",
       "      <td>W 3RD ST</td>\n",
       "      <td>145</td>\n",
       "    </tr>\n",
       "    <tr>\n",
       "      <th>7</th>\n",
       "      <td>BEVERLY BLVD</td>\n",
       "      <td>135</td>\n",
       "    </tr>\n",
       "    <tr>\n",
       "      <th>8</th>\n",
       "      <td>S FIGUEROA ST</td>\n",
       "      <td>134</td>\n",
       "    </tr>\n",
       "    <tr>\n",
       "      <th>9</th>\n",
       "      <td>S WESTERN AVE</td>\n",
       "      <td>128</td>\n",
       "    </tr>\n",
       "  </tbody>\n",
       "</table>\n",
       "</div>"
      ],
      "text/plain": [
       "              street  total\n",
       "0      W SUNSET BLVD    296\n",
       "1        W PICO BLVD    288\n",
       "2     HOLLYWOOD BLVD    167\n",
       "3      WILSHIRE BLVD    161\n",
       "4      S VERMONT AVE    148\n",
       "5  SANTA MONICA BLVD    146\n",
       "6           W 3RD ST    145\n",
       "7       BEVERLY BLVD    135\n",
       "8      S FIGUEROA ST    134\n",
       "9      S WESTERN AVE    128"
      ]
     },
     "execution_count": 31,
     "metadata": {},
     "output_type": "execute_result"
    }
   ],
   "source": [
    "# Buscamos las 10 calles con más establecimientos \n",
    "street_counts = data[\"street\"].value_counts().head(10)\n",
    "street_counts = street_counts.reset_index()\n",
    "street_counts.columns = [\"street\", \"total\"]\n",
    "street_counts"
   ]
  },
  {
   "cell_type": "code",
   "execution_count": 45,
   "metadata": {},
   "outputs": [
    {
     "data": {
      "image/png": "[encoded data removed]",
      "text/plain": [
       "<Figure size 640x480 with 1 Axes>"
      ]
     },
     "metadata": {},
     "output_type": "display_data"
    }
   ],
   "source": [
    "# Grafica con las calles con más establecimientos\n",
    "sns.barplot(data=street_counts, x=\"street\", y=\"total\")\n",
    "# Agregamos titulo y nombre de los ejes\n",
    "plt.title(\"Top 10 calles con más establecimientos\")\n",
    "plt.xlabel(\"Nombre de las calles\")\n",
    "plt.ylabel(\"Total de establecimientos\")\n",
    "plt.xticks(rotation=45)\n",
    "plt.show()"
   ]
  },
  {
   "cell_type": "markdown",
   "metadata": {},
   "source": [
    "La calle más popular es W Sunset Blvd con 296 establecimientos y con 288 establecimientos esta la calle W Pico Blvd, las demás calles tienen menos de 200 establecimientos. "
   ]
  },
  {
   "cell_type": "markdown",
   "metadata": {},
   "source": [
    "**Encuentra el número de calles que solo tienen un restaurante.**"
   ]
  },
  {
   "cell_type": "code",
   "execution_count": 46,
   "metadata": {},
   "outputs": [
    {
     "name": "stdout",
     "output_type": "stream",
     "text": [
      "Número de calles con un solo restaurante: 2450\n"
     ]
    }
   ],
   "source": [
    "# Buscamos las calles que solo tienen un establecimento\n",
    "streets_count = data[\"street\"].value_counts()\n",
    "streets_single_establishment = (streets_count == 1).sum()\n",
    "print(f\"Número de calles con un solo restaurante: {streets_single_establishment}\")"
   ]
  },
  {
   "cell_type": "code",
   "execution_count": 47,
   "metadata": {},
   "outputs": [
    {
     "data": {
      "text/plain": [
       "3077"
      ]
     },
     "execution_count": 47,
     "metadata": {},
     "output_type": "execute_result"
    }
   ],
   "source": [
    "# Total de calles\n",
    "data[\"street\"].nunique()"
   ]
  },
  {
   "cell_type": "markdown",
   "metadata": {},
   "source": [
    "De las 3077 calles proporcionadas para este análisis existen 2450 calles en las que solamente se encuentra un establecimiento."
   ]
  },
  {
   "cell_type": "markdown",
   "metadata": {},
   "source": [
    "**Para las calles con muchos restaurantes, analiza la distribución del número de asientos. ¿Qué tendencias puedes ver?**"
   ]
  },
  {
   "cell_type": "code",
   "execution_count": 48,
   "metadata": {},
   "outputs": [
    {
     "data": {
      "image/png": "[encoded data removed]",
      "text/plain": [
       "<Figure size 1200x300 with 1 Axes>"
      ]
     },
     "metadata": {},
     "output_type": "display_data"
    }
   ],
   "source": [
    "# Buscamos las calles con más de 30 establecimientos\n",
    "popular_streets = streets_count[streets_count > 30].index\n",
    "\n",
    "# Grafica de las calles con muchos establecimientos\n",
    "plt.figure(figsize=(12, 3))\n",
    "sns.lineplot(x=\"street\", y=\"number\", data=data[data[\"street\"].isin(popular_streets)], color=\"#273c75\")\n",
    "# Agregamos titulo y nombre a los ejes\n",
    "plt.title(\"Asientos totales en calles con muchos restaurantes\")\n",
    "plt.xlabel(\"Calle\")\n",
    "plt.ylabel(\"Número de asientos\")\n",
    "plt.xticks(rotation=90)\n",
    "plt.show()"
   ]
  },
  {
   "cell_type": "markdown",
   "metadata": {},
   "source": [
    "En las calles con más de 30 establecimientos se puede observar que existen algunas calles donde el número de asientos se reduce considerablemente hasta llegar a 20 asientos, y otras calles en donde casi llega a los 100 asientos por calle. El promedio de las calles tienen entre 40 a 60 asientos por calle."
   ]
  },
  {
   "cell_type": "markdown",
   "metadata": {},
   "source": [
    "## Conclusión \n",
    "<a id=\"Conclusión \"></a>"
   ]
  },
  {
   "cell_type": "markdown",
   "metadata": {},
   "source": [
    "Después de realizar el análisis se puede concluir que en la ciudad de Los Ángeles no existen tantos establecimientos de cafeterías solo representan el 4.50% de los establecimientos existentes en la ciudad, en comparación con los restaurantes que representan un 75.17%.\n",
    "De las 435 cafeterías existentes 266 pertenecen a cadenas, esto nos dice que poco más de la mitad de las cafeterías pertenecen a cadenas. Las cafeterías pertenecientes a las cadenas tienen más asientos que las que no pertenecen a alguna cadena.\n",
    "En promedio todas las cafeterías ya sean pertenecientes a alguna cadena o no tienen 25 asientos por cafetería.\n",
    "\n",
    "A pesar de que más de la mitad de los establecimientos sean una cadena en comparación con establecimientos como restaurantes donde los pertenecientes a las cadenas son menos que los que si pertenecen a una cadena, es recomendable no pertenecer a una cadena, además es probable que la cafetería tenga que realizar ciertos cambios para poder ser parte de una cadena pudiendo dejar de lado la propuesta de valor inicial."
   ]
  },
  {
   "cell_type": "markdown",
   "metadata": {},
   "source": [
    "Presentación: https://drive.google.com/file/d/1MhQrzV0HuE0MGGwRP3PGnkuFiRzP_xu-/view?usp=drive_link"
   ]
  }
 ],
 "metadata": {
  "ExecuteTimeLog": [
   {
    "duration": 336,
    "start_time": "2024-08-28T18:30:27.294Z"
   },
   {
    "duration": 20,
    "start_time": "2024-08-28T18:31:47.777Z"
   },
   {
    "duration": 9,
    "start_time": "2024-08-28T18:34:42.678Z"
   },
   {
    "duration": 11,
    "start_time": "2024-08-28T18:35:13.961Z"
   },
   {
    "duration": 5,
    "start_time": "2024-08-28T18:38:40.782Z"
   },
   {
    "duration": 88,
    "start_time": "2024-08-28T18:39:36.725Z"
   },
   {
    "duration": 3,
    "start_time": "2024-08-28T18:40:00.603Z"
   },
   {
    "duration": 7,
    "start_time": "2024-08-28T18:40:37.296Z"
   },
   {
    "duration": 7,
    "start_time": "2024-08-28T18:40:42.105Z"
   },
   {
    "duration": 8,
    "start_time": "2024-08-28T18:41:03.310Z"
   },
   {
    "duration": 5,
    "start_time": "2024-08-28T18:41:10.695Z"
   },
   {
    "duration": 6,
    "start_time": "2024-08-28T18:42:54.959Z"
   },
   {
    "duration": 400,
    "start_time": "2024-08-28T20:16:04.198Z"
   },
   {
    "duration": 36,
    "start_time": "2024-08-28T20:16:05.827Z"
   },
   {
    "duration": 13,
    "start_time": "2024-08-28T20:16:06.474Z"
   },
   {
    "duration": 13,
    "start_time": "2024-08-28T20:16:07.432Z"
   },
   {
    "duration": 7,
    "start_time": "2024-08-28T20:16:11.341Z"
   },
   {
    "duration": 5,
    "start_time": "2024-08-28T20:16:12.173Z"
   },
   {
    "duration": 9,
    "start_time": "2024-08-28T20:16:12.796Z"
   },
   {
    "duration": 6,
    "start_time": "2024-08-28T20:16:14.978Z"
   },
   {
    "duration": 841,
    "start_time": "2024-08-28T20:24:52.584Z"
   },
   {
    "duration": 348,
    "start_time": "2024-08-28T20:26:51.203Z"
   },
   {
    "duration": 16,
    "start_time": "2024-08-28T20:26:52.274Z"
   },
   {
    "duration": 12,
    "start_time": "2024-08-28T20:26:53.227Z"
   },
   {
    "duration": 10,
    "start_time": "2024-08-28T20:26:54.044Z"
   },
   {
    "duration": 7,
    "start_time": "2024-08-28T20:26:57.434Z"
   },
   {
    "duration": 6,
    "start_time": "2024-08-28T20:26:58.200Z"
   },
   {
    "duration": 6,
    "start_time": "2024-08-28T20:27:00.250Z"
   },
   {
    "duration": 3,
    "start_time": "2024-08-28T20:27:02.033Z"
   },
   {
    "duration": 6,
    "start_time": "2024-08-28T20:27:44.027Z"
   },
   {
    "duration": 6,
    "start_time": "2024-08-28T20:28:18.493Z"
   },
   {
    "duration": 5,
    "start_time": "2024-08-28T20:36:43.231Z"
   },
   {
    "duration": 5,
    "start_time": "2024-08-28T20:36:52.996Z"
   },
   {
    "duration": 5,
    "start_time": "2024-08-28T20:36:58.095Z"
   },
   {
    "duration": 6,
    "start_time": "2024-08-28T20:39:12.330Z"
   },
   {
    "duration": 5,
    "start_time": "2024-08-28T20:39:23.892Z"
   },
   {
    "duration": 5,
    "start_time": "2024-08-28T20:39:26.052Z"
   },
   {
    "duration": 5,
    "start_time": "2024-08-28T20:39:34.357Z"
   },
   {
    "duration": 3,
    "start_time": "2024-08-28T20:44:03.262Z"
   },
   {
    "duration": 5,
    "start_time": "2024-08-28T20:44:57.911Z"
   },
   {
    "duration": 346,
    "start_time": "2024-08-28T20:49:51.377Z"
   },
   {
    "duration": 17,
    "start_time": "2024-08-28T20:49:52.379Z"
   },
   {
    "duration": 11,
    "start_time": "2024-08-28T20:49:53.358Z"
   },
   {
    "duration": 11,
    "start_time": "2024-08-28T20:49:54.109Z"
   },
   {
    "duration": 6,
    "start_time": "2024-08-28T20:49:58.342Z"
   },
   {
    "duration": 5,
    "start_time": "2024-08-28T20:50:11.390Z"
   },
   {
    "duration": 7,
    "start_time": "2024-08-28T20:50:15.097Z"
   },
   {
    "duration": 4,
    "start_time": "2024-08-28T20:50:24.623Z"
   },
   {
    "duration": 6,
    "start_time": "2024-08-28T20:50:33.171Z"
   },
   {
    "duration": 5,
    "start_time": "2024-08-28T20:51:08.489Z"
   },
   {
    "duration": 369,
    "start_time": "2024-08-28T21:02:22.159Z"
   },
   {
    "duration": 2264,
    "start_time": "2024-08-28T21:13:18.376Z"
   },
   {
    "duration": 2,
    "start_time": "2024-08-28T21:13:30.156Z"
   },
   {
    "duration": 3,
    "start_time": "2024-08-28T21:32:35.556Z"
   },
   {
    "duration": 3,
    "start_time": "2024-08-28T21:36:26.805Z"
   },
   {
    "duration": 357,
    "start_time": "2024-08-28T21:45:12.478Z"
   },
   {
    "duration": 235,
    "start_time": "2024-08-28T21:45:19.276Z"
   },
   {
    "duration": 233,
    "start_time": "2024-08-28T21:47:51.134Z"
   },
   {
    "duration": 345,
    "start_time": "2024-08-28T21:49:07.468Z"
   },
   {
    "duration": 279,
    "start_time": "2024-08-28T22:08:28.176Z"
   },
   {
    "duration": 292,
    "start_time": "2024-08-28T22:08:41.098Z"
   },
   {
    "duration": 245,
    "start_time": "2024-08-28T22:09:06.039Z"
   },
   {
    "duration": 17,
    "start_time": "2024-08-28T22:10:16.245Z"
   },
   {
    "duration": 16,
    "start_time": "2024-08-28T22:10:33.966Z"
   },
   {
    "duration": 14,
    "start_time": "2024-08-28T22:10:38.753Z"
   },
   {
    "duration": 5,
    "start_time": "2024-08-28T22:13:53.204Z"
   },
   {
    "duration": 800,
    "start_time": "2024-08-28T22:17:00.003Z"
   },
   {
    "duration": 274,
    "start_time": "2024-08-28T22:17:15.883Z"
   },
   {
    "duration": 269,
    "start_time": "2024-08-28T22:19:22.088Z"
   },
   {
    "duration": 296,
    "start_time": "2024-08-28T22:20:46.101Z"
   },
   {
    "duration": 275,
    "start_time": "2024-08-28T22:20:54.673Z"
   },
   {
    "duration": 289,
    "start_time": "2024-08-28T23:11:41.005Z"
   },
   {
    "duration": 276,
    "start_time": "2024-08-28T23:11:57.587Z"
   },
   {
    "duration": 428,
    "start_time": "2024-08-28T23:15:13.052Z"
   },
   {
    "duration": 476,
    "start_time": "2024-08-28T23:26:16.404Z"
   },
   {
    "duration": 412,
    "start_time": "2024-08-28T23:31:33.575Z"
   },
   {
    "duration": 316,
    "start_time": "2024-08-28T23:33:38.317Z"
   },
   {
    "duration": 263,
    "start_time": "2024-08-28T23:34:07.928Z"
   },
   {
    "duration": 440,
    "start_time": "2024-08-28T23:34:47.435Z"
   },
   {
    "duration": 3,
    "start_time": "2024-08-29T00:05:27.872Z"
   },
   {
    "duration": 213,
    "start_time": "2024-08-29T00:05:29.274Z"
   },
   {
    "duration": 388,
    "start_time": "2024-08-29T00:05:45.770Z"
   },
   {
    "duration": 2467,
    "start_time": "2024-08-29T17:30:36.133Z"
   },
   {
    "duration": 30,
    "start_time": "2024-08-29T17:30:45.454Z"
   },
   {
    "duration": 10,
    "start_time": "2024-08-29T17:30:50.385Z"
   },
   {
    "duration": 10,
    "start_time": "2024-08-29T17:30:51.486Z"
   },
   {
    "duration": 9,
    "start_time": "2024-08-29T17:31:00.034Z"
   },
   {
    "duration": 5,
    "start_time": "2024-08-29T17:31:00.698Z"
   },
   {
    "duration": 5,
    "start_time": "2024-08-29T17:31:02.976Z"
   },
   {
    "duration": 4,
    "start_time": "2024-08-29T17:31:04.245Z"
   },
   {
    "duration": 5,
    "start_time": "2024-08-29T17:31:05.524Z"
   },
   {
    "duration": 4,
    "start_time": "2024-08-29T17:31:08.949Z"
   },
   {
    "duration": 2,
    "start_time": "2024-08-29T17:31:11.343Z"
   },
   {
    "duration": 290,
    "start_time": "2024-08-29T17:31:12.604Z"
   },
   {
    "duration": 386,
    "start_time": "2024-08-29T17:31:16.974Z"
   },
   {
    "duration": 250,
    "start_time": "2024-08-29T17:46:52.304Z"
   },
   {
    "duration": 102,
    "start_time": "2024-08-29T17:50:08.055Z"
   },
   {
    "duration": 1131,
    "start_time": "2024-08-29T17:53:23.534Z"
   },
   {
    "duration": 430,
    "start_time": "2024-08-29T17:59:14.293Z"
   },
   {
    "duration": 417,
    "start_time": "2024-08-29T18:06:51.007Z"
   },
   {
    "duration": 119,
    "start_time": "2024-08-29T18:17:43.370Z"
   },
   {
    "duration": 14,
    "start_time": "2024-08-29T18:18:39.842Z"
   },
   {
    "duration": 8,
    "start_time": "2024-08-29T18:19:00.051Z"
   },
   {
    "duration": 4,
    "start_time": "2024-08-29T18:19:52.995Z"
   },
   {
    "duration": 5,
    "start_time": "2024-08-29T18:20:18.985Z"
   },
   {
    "duration": 8,
    "start_time": "2024-08-29T18:20:50.901Z"
   },
   {
    "duration": 7,
    "start_time": "2024-08-29T18:23:50.929Z"
   },
   {
    "duration": 139,
    "start_time": "2024-08-29T18:36:45.037Z"
   },
   {
    "duration": 318,
    "start_time": "2024-08-29T18:41:12.646Z"
   },
   {
    "duration": 313,
    "start_time": "2024-08-29T18:41:24.785Z"
   },
   {
    "duration": 16,
    "start_time": "2024-08-29T18:47:23.426Z"
   },
   {
    "duration": 240,
    "start_time": "2024-08-29T19:09:29.979Z"
   },
   {
    "duration": 254,
    "start_time": "2024-08-29T19:18:01.958Z"
   },
   {
    "duration": 269,
    "start_time": "2024-08-29T19:18:14.026Z"
   },
   {
    "duration": 2597,
    "start_time": "2024-08-29T21:27:51.537Z"
   },
   {
    "duration": 32,
    "start_time": "2024-08-29T21:27:54.136Z"
   },
   {
    "duration": 11,
    "start_time": "2024-08-29T21:28:48.456Z"
   },
   {
    "duration": 10,
    "start_time": "2024-08-29T21:28:49.711Z"
   },
   {
    "duration": 8,
    "start_time": "2024-08-29T21:28:54.402Z"
   },
   {
    "duration": 6,
    "start_time": "2024-08-29T21:28:55.480Z"
   },
   {
    "duration": 7,
    "start_time": "2024-08-29T21:29:01.705Z"
   },
   {
    "duration": 3,
    "start_time": "2024-08-29T21:29:03.395Z"
   },
   {
    "duration": 6,
    "start_time": "2024-08-29T21:29:05.617Z"
   },
   {
    "duration": 4,
    "start_time": "2024-08-29T21:29:09.792Z"
   },
   {
    "duration": 2,
    "start_time": "2024-08-29T21:29:12.867Z"
   },
   {
    "duration": 4,
    "start_time": "2024-08-29T21:29:15.378Z"
   },
   {
    "duration": 281,
    "start_time": "2024-08-29T21:29:29.507Z"
   },
   {
    "duration": 408,
    "start_time": "2024-08-29T21:30:00.039Z"
   },
   {
    "duration": 262,
    "start_time": "2024-08-29T21:30:16.505Z"
   },
   {
    "duration": 236,
    "start_time": "2024-08-29T21:38:22.379Z"
   },
   {
    "duration": 77,
    "start_time": "2024-08-29T21:52:34.989Z"
   },
   {
    "duration": 4,
    "start_time": "2024-08-29T21:52:44.633Z"
   },
   {
    "duration": 6,
    "start_time": "2024-08-29T21:52:58.696Z"
   },
   {
    "duration": 520,
    "start_time": "2024-08-29T21:54:10.923Z"
   },
   {
    "duration": 4227,
    "start_time": "2024-08-29T22:03:00.114Z"
   },
   {
    "duration": 3701,
    "start_time": "2024-08-29T22:03:22.806Z"
   },
   {
    "duration": 109,
    "start_time": "2024-08-29T22:05:52.776Z"
   },
   {
    "duration": 122,
    "start_time": "2024-08-29T22:09:24.645Z"
   },
   {
    "duration": 3495,
    "start_time": "2024-08-29T22:09:38.336Z"
   },
   {
    "duration": 729,
    "start_time": "2024-08-29T22:12:09.002Z"
   },
   {
    "duration": 722,
    "start_time": "2024-08-29T22:14:53.306Z"
   },
   {
    "duration": 11,
    "start_time": "2024-08-29T22:52:59.508Z"
   },
   {
    "duration": 7,
    "start_time": "2024-08-29T22:53:20.705Z"
   },
   {
    "duration": 7,
    "start_time": "2024-08-29T22:53:27.096Z"
   },
   {
    "duration": 141,
    "start_time": "2024-08-30T00:32:05.341Z"
   },
   {
    "duration": 140,
    "start_time": "2024-08-30T00:38:17.365Z"
   },
   {
    "duration": 17,
    "start_time": "2024-08-30T00:41:21.206Z"
   },
   {
    "duration": 442,
    "start_time": "2024-08-30T00:41:40.798Z"
   },
   {
    "duration": 5,
    "start_time": "2024-08-30T00:42:08.642Z"
   },
   {
    "duration": 4,
    "start_time": "2024-08-30T00:48:05.510Z"
   },
   {
    "duration": 3,
    "start_time": "2024-08-30T00:48:13.145Z"
   },
   {
    "duration": 90,
    "start_time": "2024-08-30T00:58:50.662Z"
   },
   {
    "duration": 12,
    "start_time": "2024-08-30T01:01:15.431Z"
   },
   {
    "duration": 2474,
    "start_time": "2024-09-02T15:14:28.197Z"
   },
   {
    "duration": 33,
    "start_time": "2024-09-02T15:14:33.566Z"
   },
   {
    "duration": 12,
    "start_time": "2024-09-02T15:14:36.061Z"
   },
   {
    "duration": 10,
    "start_time": "2024-09-02T15:14:38.328Z"
   },
   {
    "duration": 7,
    "start_time": "2024-09-02T15:14:43.522Z"
   },
   {
    "duration": 6,
    "start_time": "2024-09-02T15:14:45.275Z"
   },
   {
    "duration": 6,
    "start_time": "2024-09-02T15:14:47.537Z"
   },
   {
    "duration": 4,
    "start_time": "2024-09-02T15:14:53.715Z"
   },
   {
    "duration": 6,
    "start_time": "2024-09-02T15:14:55.108Z"
   },
   {
    "duration": 4,
    "start_time": "2024-09-02T15:15:00.070Z"
   },
   {
    "duration": 2519,
    "start_time": "2024-09-02T18:19:49.340Z"
   },
   {
    "duration": 26,
    "start_time": "2024-09-02T18:19:55.789Z"
   },
   {
    "duration": 10,
    "start_time": "2024-09-02T18:19:56.948Z"
   },
   {
    "duration": 10,
    "start_time": "2024-09-02T18:19:58.017Z"
   },
   {
    "duration": 7,
    "start_time": "2024-09-02T18:20:03.877Z"
   },
   {
    "duration": 5,
    "start_time": "2024-09-02T18:20:04.822Z"
   },
   {
    "duration": 6,
    "start_time": "2024-09-02T18:20:06.331Z"
   },
   {
    "duration": 3,
    "start_time": "2024-09-02T18:20:07.653Z"
   },
   {
    "duration": 6,
    "start_time": "2024-09-02T18:20:13.972Z"
   },
   {
    "duration": 4,
    "start_time": "2024-09-02T18:20:13.980Z"
   },
   {
    "duration": 3,
    "start_time": "2024-09-02T18:20:16.057Z"
   },
   {
    "duration": 123,
    "start_time": "2024-09-02T18:33:22.900Z"
   },
   {
    "duration": 106,
    "start_time": "2024-09-02T18:36:46.165Z"
   },
   {
    "duration": 114,
    "start_time": "2024-09-02T18:43:43.098Z"
   },
   {
    "duration": 379,
    "start_time": "2024-09-02T18:47:25.594Z"
   },
   {
    "duration": 145,
    "start_time": "2024-09-02T18:47:40.657Z"
   },
   {
    "duration": 221,
    "start_time": "2024-09-02T18:48:50.272Z"
   },
   {
    "duration": 710,
    "start_time": "2024-09-02T18:52:45.047Z"
   },
   {
    "duration": 88,
    "start_time": "2024-09-02T18:58:18.204Z"
   },
   {
    "duration": 6,
    "start_time": "2024-09-02T18:58:52.601Z"
   },
   {
    "duration": 6,
    "start_time": "2024-09-02T19:00:27.652Z"
   },
   {
    "duration": 69,
    "start_time": "2024-09-02T19:02:04.968Z"
   },
   {
    "duration": 2,
    "start_time": "2024-09-02T19:03:29.034Z"
   },
   {
    "duration": 78,
    "start_time": "2024-09-02T19:03:45.920Z"
   },
   {
    "duration": 13,
    "start_time": "2024-09-02T19:12:05.381Z"
   },
   {
    "duration": 7,
    "start_time": "2024-09-02T19:12:15.070Z"
   },
   {
    "duration": 40,
    "start_time": "2024-09-02T19:12:52.029Z"
   },
   {
    "duration": 9,
    "start_time": "2024-09-02T19:18:04.246Z"
   },
   {
    "duration": 176,
    "start_time": "2024-09-02T19:19:41.052Z"
   },
   {
    "duration": 2522,
    "start_time": "2024-09-02T21:07:15.788Z"
   },
   {
    "duration": 30,
    "start_time": "2024-09-02T21:07:19.725Z"
   },
   {
    "duration": 11,
    "start_time": "2024-09-02T21:07:22.019Z"
   },
   {
    "duration": 12,
    "start_time": "2024-09-02T21:07:24.847Z"
   },
   {
    "duration": 8,
    "start_time": "2024-09-02T21:07:31.880Z"
   },
   {
    "duration": 5,
    "start_time": "2024-09-02T21:07:31.890Z"
   },
   {
    "duration": 6,
    "start_time": "2024-09-02T21:07:33.645Z"
   },
   {
    "duration": 3,
    "start_time": "2024-09-02T21:07:35.469Z"
   },
   {
    "duration": 5,
    "start_time": "2024-09-02T21:07:36.509Z"
   },
   {
    "duration": 4,
    "start_time": "2024-09-02T21:07:38.089Z"
   },
   {
    "duration": 3,
    "start_time": "2024-09-02T21:07:43.128Z"
   },
   {
    "duration": 120,
    "start_time": "2024-09-02T21:07:47.725Z"
   },
   {
    "duration": 140,
    "start_time": "2024-09-02T21:07:53.949Z"
   },
   {
    "duration": 610,
    "start_time": "2024-09-02T21:09:05.154Z"
   },
   {
    "duration": 1163,
    "start_time": "2024-09-02T21:09:34.536Z"
   },
   {
    "duration": 724,
    "start_time": "2024-09-02T21:11:17.724Z"
   },
   {
    "duration": 711,
    "start_time": "2024-09-02T21:11:49.448Z"
   },
   {
    "duration": 9,
    "start_time": "2024-09-02T21:11:58.407Z"
   },
   {
    "duration": 113,
    "start_time": "2024-09-02T21:11:59.207Z"
   },
   {
    "duration": 23,
    "start_time": "2024-09-02T21:13:28.781Z"
   },
   {
    "duration": 2496,
    "start_time": "2024-09-02T22:17:51.208Z"
   },
   {
    "duration": 30,
    "start_time": "2024-09-02T22:17:54.448Z"
   },
   {
    "duration": 11,
    "start_time": "2024-09-02T22:17:55.822Z"
   },
   {
    "duration": 12,
    "start_time": "2024-09-02T22:17:56.618Z"
   },
   {
    "duration": 7,
    "start_time": "2024-09-02T22:18:00.791Z"
   },
   {
    "duration": 6,
    "start_time": "2024-09-02T22:18:01.715Z"
   },
   {
    "duration": 6,
    "start_time": "2024-09-02T22:18:02.601Z"
   },
   {
    "duration": 3,
    "start_time": "2024-09-02T22:18:05.617Z"
   },
   {
    "duration": 7,
    "start_time": "2024-09-02T22:18:06.337Z"
   },
   {
    "duration": 4,
    "start_time": "2024-09-02T22:18:08.087Z"
   },
   {
    "duration": 3,
    "start_time": "2024-09-02T22:18:13.990Z"
   },
   {
    "duration": 131,
    "start_time": "2024-09-02T22:18:17.088Z"
   },
   {
    "duration": 144,
    "start_time": "2024-09-02T22:18:20.054Z"
   },
   {
    "duration": 718,
    "start_time": "2024-09-02T22:18:49.071Z"
   },
   {
    "duration": 9,
    "start_time": "2024-09-02T22:19:02.627Z"
   },
   {
    "duration": 112,
    "start_time": "2024-09-02T22:19:04.477Z"
   },
   {
    "duration": 67,
    "start_time": "2024-09-02T22:19:09.824Z"
   },
   {
    "duration": 215,
    "start_time": "2024-09-02T22:21:44.684Z"
   },
   {
    "duration": 16,
    "start_time": "2024-09-02T22:22:20.043Z"
   },
   {
    "duration": 7,
    "start_time": "2024-09-02T22:22:26.397Z"
   },
   {
    "duration": 18,
    "start_time": "2024-09-02T22:25:05.499Z"
   },
   {
    "duration": 6,
    "start_time": "2024-09-02T22:25:15.099Z"
   },
   {
    "duration": 17,
    "start_time": "2024-09-02T22:25:23.872Z"
   },
   {
    "duration": 10,
    "start_time": "2024-09-02T22:25:29.766Z"
   },
   {
    "duration": 5,
    "start_time": "2024-09-02T22:28:47.516Z"
   },
   {
    "duration": 162,
    "start_time": "2024-09-02T22:28:52.980Z"
   },
   {
    "duration": 142,
    "start_time": "2024-09-02T22:29:07.840Z"
   },
   {
    "duration": 6,
    "start_time": "2024-09-02T23:33:28.244Z"
   },
   {
    "duration": 17,
    "start_time": "2024-09-02T23:39:28.135Z"
   },
   {
    "duration": 6,
    "start_time": "2024-09-02T23:39:36.923Z"
   },
   {
    "duration": 6,
    "start_time": "2024-09-02T23:42:14.878Z"
   },
   {
    "duration": 6,
    "start_time": "2024-09-02T23:50:16.137Z"
   },
   {
    "duration": 76,
    "start_time": "2024-09-02T23:51:49.192Z"
   },
   {
    "duration": 10,
    "start_time": "2024-09-02T23:52:04.292Z"
   },
   {
    "duration": 12,
    "start_time": "2024-09-02T23:52:35.732Z"
   },
   {
    "duration": 8,
    "start_time": "2024-09-02T23:53:00.677Z"
   },
   {
    "duration": 8,
    "start_time": "2024-09-02T23:53:11.104Z"
   },
   {
    "duration": 9,
    "start_time": "2024-09-02T23:53:56.491Z"
   },
   {
    "duration": 9,
    "start_time": "2024-09-02T23:54:18.728Z"
   },
   {
    "duration": 11,
    "start_time": "2024-09-02T23:55:36.765Z"
   },
   {
    "duration": 13,
    "start_time": "2024-09-02T23:56:34.785Z"
   },
   {
    "duration": 12,
    "start_time": "2024-09-02T23:56:49.942Z"
   },
   {
    "duration": 2131,
    "start_time": "2024-09-03T00:11:28.539Z"
   },
   {
    "duration": 2875,
    "start_time": "2024-09-03T00:12:25.260Z"
   },
   {
    "duration": 6,
    "start_time": "2024-09-03T00:17:13.690Z"
   },
   {
    "duration": 5,
    "start_time": "2024-09-03T00:17:21.785Z"
   },
   {
    "duration": 3,
    "start_time": "2024-09-03T00:28:51.961Z"
   },
   {
    "duration": 1425,
    "start_time": "2024-09-03T00:33:48.871Z"
   },
   {
    "duration": 2881,
    "start_time": "2024-09-03T00:34:48.986Z"
   },
   {
    "duration": 2838,
    "start_time": "2024-09-03T00:36:06.588Z"
   },
   {
    "duration": 1913,
    "start_time": "2024-09-03T00:40:25.037Z"
   },
   {
    "duration": 3268,
    "start_time": "2024-09-03T01:21:45.385Z"
   },
   {
    "duration": 21,
    "start_time": "2024-09-03T01:21:50.151Z"
   },
   {
    "duration": 10,
    "start_time": "2024-09-03T01:21:51.594Z"
   },
   {
    "duration": 11,
    "start_time": "2024-09-03T01:21:52.463Z"
   },
   {
    "duration": 8,
    "start_time": "2024-09-03T01:21:57.803Z"
   },
   {
    "duration": 6,
    "start_time": "2024-09-03T01:21:58.736Z"
   },
   {
    "duration": 6,
    "start_time": "2024-09-03T01:22:00.469Z"
   },
   {
    "duration": 4,
    "start_time": "2024-09-03T01:22:02.092Z"
   },
   {
    "duration": 6,
    "start_time": "2024-09-03T01:22:03.443Z"
   },
   {
    "duration": 4,
    "start_time": "2024-09-03T01:22:05.145Z"
   },
   {
    "duration": 5,
    "start_time": "2024-09-03T01:23:00.334Z"
   },
   {
    "duration": 141,
    "start_time": "2024-09-03T01:23:02.145Z"
   },
   {
    "duration": 138,
    "start_time": "2024-09-03T01:23:19.088Z"
   },
   {
    "duration": 176,
    "start_time": "2024-09-03T01:23:30.258Z"
   },
   {
    "duration": 7,
    "start_time": "2024-09-03T01:26:17.395Z"
   },
   {
    "duration": 683,
    "start_time": "2024-09-03T01:27:05.788Z"
   },
   {
    "duration": 6,
    "start_time": "2024-09-03T01:28:03.941Z"
   },
   {
    "duration": 8,
    "start_time": "2024-09-03T01:28:44.113Z"
   },
   {
    "duration": 15,
    "start_time": "2024-09-03T01:40:28.116Z"
   },
   {
    "duration": 8,
    "start_time": "2024-09-03T01:41:36.226Z"
   },
   {
    "duration": 16,
    "start_time": "2024-09-03T01:42:48.405Z"
   },
   {
    "duration": 153,
    "start_time": "2024-09-03T01:53:37.589Z"
   },
   {
    "duration": 115,
    "start_time": "2024-09-03T01:53:48.634Z"
   },
   {
    "duration": 27,
    "start_time": "2024-09-03T01:54:28.824Z"
   },
   {
    "duration": 9,
    "start_time": "2024-09-03T01:54:46.271Z"
   },
   {
    "duration": 15,
    "start_time": "2024-09-03T01:54:51.689Z"
   },
   {
    "duration": 121,
    "start_time": "2024-09-03T01:55:02.747Z"
   },
   {
    "duration": 902,
    "start_time": "2024-09-03T01:55:34.364Z"
   },
   {
    "duration": 14,
    "start_time": "2024-09-03T01:57:21.122Z"
   },
   {
    "duration": 10,
    "start_time": "2024-09-03T01:57:34.238Z"
   },
   {
    "duration": 226,
    "start_time": "2024-09-03T01:57:48.771Z"
   },
   {
    "duration": 121,
    "start_time": "2024-09-03T01:58:23.445Z"
   },
   {
    "duration": 40,
    "start_time": "2024-09-03T01:58:32.401Z"
   },
   {
    "duration": 11,
    "start_time": "2024-09-03T01:58:40.651Z"
   },
   {
    "duration": 193,
    "start_time": "2024-09-03T01:58:50.556Z"
   },
   {
    "duration": 6,
    "start_time": "2024-09-03T01:58:58.098Z"
   },
   {
    "duration": 1720,
    "start_time": "2024-09-03T01:59:53.438Z"
   },
   {
    "duration": 1787,
    "start_time": "2024-09-03T02:00:06.074Z"
   },
   {
    "duration": 2513,
    "start_time": "2024-09-03T18:25:48.081Z"
   },
   {
    "duration": 42,
    "start_time": "2024-09-03T18:25:51.391Z"
   },
   {
    "duration": 11,
    "start_time": "2024-09-03T18:25:53.120Z"
   },
   {
    "duration": 11,
    "start_time": "2024-09-03T18:25:53.938Z"
   },
   {
    "duration": 7,
    "start_time": "2024-09-03T18:25:57.811Z"
   },
   {
    "duration": 6,
    "start_time": "2024-09-03T18:25:58.507Z"
   },
   {
    "duration": 6,
    "start_time": "2024-09-03T18:26:00.119Z"
   },
   {
    "duration": 3,
    "start_time": "2024-09-03T18:26:02.493Z"
   },
   {
    "duration": 5,
    "start_time": "2024-09-03T18:26:04.206Z"
   },
   {
    "duration": 3,
    "start_time": "2024-09-03T18:26:05.042Z"
   },
   {
    "duration": 3,
    "start_time": "2024-09-03T18:26:08.041Z"
   },
   {
    "duration": 119,
    "start_time": "2024-09-03T18:26:09.562Z"
   },
   {
    "duration": 145,
    "start_time": "2024-09-03T18:26:23.053Z"
   },
   {
    "duration": 9,
    "start_time": "2024-09-03T18:26:36.640Z"
   },
   {
    "duration": 133,
    "start_time": "2024-09-03T18:26:43.165Z"
   },
   {
    "duration": 864,
    "start_time": "2024-09-03T18:27:12.608Z"
   },
   {
    "duration": 10,
    "start_time": "2024-09-03T18:31:15.201Z"
   },
   {
    "duration": 112,
    "start_time": "2024-09-03T18:31:16.660Z"
   },
   {
    "duration": 16,
    "start_time": "2024-09-03T18:40:12.370Z"
   },
   {
    "duration": 9,
    "start_time": "2024-09-03T18:40:22.101Z"
   },
   {
    "duration": 184,
    "start_time": "2024-09-03T18:40:30.580Z"
   },
   {
    "duration": 6,
    "start_time": "2024-09-03T18:45:12.586Z"
   },
   {
    "duration": 6,
    "start_time": "2024-09-03T18:47:00.139Z"
   },
   {
    "duration": 7,
    "start_time": "2024-09-03T18:48:57.597Z"
   },
   {
    "duration": 6,
    "start_time": "2024-09-03T18:49:04.159Z"
   },
   {
    "duration": 6,
    "start_time": "2024-09-03T18:50:01.372Z"
   },
   {
    "duration": 1493,
    "start_time": "2024-09-03T18:52:04.044Z"
   },
   {
    "duration": 4,
    "start_time": "2024-09-03T19:18:04.154Z"
   },
   {
    "duration": 120,
    "start_time": "2024-09-03T19:18:05.422Z"
   },
   {
    "duration": 150,
    "start_time": "2024-09-03T19:18:09.812Z"
   },
   {
    "duration": 153,
    "start_time": "2024-09-03T19:18:14.534Z"
   },
   {
    "duration": 911,
    "start_time": "2024-09-03T19:18:20.699Z"
   },
   {
    "duration": 119,
    "start_time": "2024-09-03T19:18:22.484Z"
   },
   {
    "duration": 162,
    "start_time": "2024-09-03T19:18:30.064Z"
   },
   {
    "duration": 2502,
    "start_time": "2024-09-03T19:18:36.262Z"
   },
   {
    "duration": 19,
    "start_time": "2024-09-03T19:26:47.866Z"
   },
   {
    "duration": 6,
    "start_time": "2024-09-03T19:27:19.308Z"
   },
   {
    "duration": 2896,
    "start_time": "2024-09-04T18:03:02.201Z"
   },
   {
    "duration": 29,
    "start_time": "2024-09-04T18:03:05.945Z"
   },
   {
    "duration": 12,
    "start_time": "2024-09-04T18:03:06.864Z"
   },
   {
    "duration": 20,
    "start_time": "2024-09-04T18:03:08.704Z"
   },
   {
    "duration": 9,
    "start_time": "2024-09-04T18:03:11.244Z"
   },
   {
    "duration": 6,
    "start_time": "2024-09-04T18:03:11.876Z"
   },
   {
    "duration": 7,
    "start_time": "2024-09-04T18:03:13.980Z"
   },
   {
    "duration": 4,
    "start_time": "2024-09-04T18:03:14.933Z"
   },
   {
    "duration": 6,
    "start_time": "2024-09-04T18:03:16.618Z"
   },
   {
    "duration": 5,
    "start_time": "2024-09-04T18:03:17.271Z"
   },
   {
    "duration": 3,
    "start_time": "2024-09-04T18:03:21.762Z"
   },
   {
    "duration": 155,
    "start_time": "2024-09-04T18:03:22.128Z"
   },
   {
    "duration": 169,
    "start_time": "2024-09-04T18:03:25.348Z"
   },
   {
    "duration": 12,
    "start_time": "2024-09-04T18:03:29.066Z"
   },
   {
    "duration": 155,
    "start_time": "2024-09-04T18:03:29.964Z"
   },
   {
    "duration": 901,
    "start_time": "2024-09-04T18:03:33.183Z"
   },
   {
    "duration": 10,
    "start_time": "2024-09-04T18:03:43.271Z"
   },
   {
    "duration": 133,
    "start_time": "2024-09-04T18:03:44.014Z"
   },
   {
    "duration": 91,
    "start_time": "2024-09-04T18:03:47.246Z"
   },
   {
    "duration": 12,
    "start_time": "2024-09-04T18:03:49.322Z"
   },
   {
    "duration": 192,
    "start_time": "2024-09-04T18:03:50.520Z"
   },
   {
    "duration": 8,
    "start_time": "2024-09-04T18:03:54.121Z"
   },
   {
    "duration": 7,
    "start_time": "2024-09-04T18:03:54.870Z"
   },
   {
    "duration": 2532,
    "start_time": "2024-09-04T18:03:57.356Z"
   },
   {
    "duration": 309,
    "start_time": "2024-09-04T18:04:23.291Z"
   },
   {
    "duration": 164,
    "start_time": "2024-09-04T18:04:37.293Z"
   },
   {
    "duration": 7,
    "start_time": "2024-09-04T18:08:52.818Z"
   },
   {
    "duration": 4,
    "start_time": "2024-09-04T18:09:21.109Z"
   },
   {
    "duration": 158,
    "start_time": "2024-09-04T18:09:34.181Z"
   },
   {
    "duration": 155,
    "start_time": "2024-09-04T18:17:36.458Z"
   },
   {
    "duration": 155,
    "start_time": "2024-09-04T18:18:00.379Z"
   },
   {
    "duration": 237,
    "start_time": "2024-09-04T18:40:25.748Z"
   },
   {
    "duration": 154,
    "start_time": "2024-09-04T18:41:05.085Z"
   },
   {
    "duration": 332,
    "start_time": "2024-09-04T18:45:37.398Z"
   },
   {
    "duration": 70,
    "start_time": "2024-09-04T18:45:55.760Z"
   },
   {
    "duration": 163,
    "start_time": "2024-09-04T18:46:08.012Z"
   },
   {
    "duration": 241,
    "start_time": "2024-09-04T18:47:14.010Z"
   },
   {
    "duration": 5,
    "start_time": "2024-09-04T18:47:59.931Z"
   },
   {
    "duration": 70,
    "start_time": "2024-09-04T18:48:12.706Z"
   },
   {
    "duration": 157,
    "start_time": "2024-09-04T18:50:53.029Z"
   },
   {
    "duration": 167,
    "start_time": "2024-09-04T18:51:36.860Z"
   },
   {
    "duration": 170,
    "start_time": "2024-09-04T18:51:59.290Z"
   },
   {
    "duration": 157,
    "start_time": "2024-09-04T18:52:17.893Z"
   },
   {
    "duration": 162,
    "start_time": "2024-09-04T18:52:41.621Z"
   },
   {
    "duration": 169,
    "start_time": "2024-09-04T18:54:20.685Z"
   },
   {
    "duration": 183,
    "start_time": "2024-09-04T18:54:37.756Z"
   },
   {
    "duration": 160,
    "start_time": "2024-09-04T18:55:10.759Z"
   },
   {
    "duration": 2501,
    "start_time": "2024-09-04T23:19:49.218Z"
   },
   {
    "duration": 25,
    "start_time": "2024-09-04T23:19:53.304Z"
   },
   {
    "duration": 11,
    "start_time": "2024-09-04T23:19:54.229Z"
   },
   {
    "duration": 10,
    "start_time": "2024-09-04T23:19:55.240Z"
   },
   {
    "duration": 7,
    "start_time": "2024-09-04T23:20:00.064Z"
   },
   {
    "duration": 5,
    "start_time": "2024-09-04T23:20:00.704Z"
   },
   {
    "duration": 5,
    "start_time": "2024-09-04T23:20:02.490Z"
   },
   {
    "duration": 3,
    "start_time": "2024-09-04T23:20:03.349Z"
   },
   {
    "duration": 6,
    "start_time": "2024-09-04T23:20:09.999Z"
   },
   {
    "duration": 4,
    "start_time": "2024-09-04T23:20:10.007Z"
   },
   {
    "duration": 4,
    "start_time": "2024-09-04T23:20:15.967Z"
   },
   {
    "duration": 133,
    "start_time": "2024-09-04T23:20:16.982Z"
   },
   {
    "duration": 151,
    "start_time": "2024-09-04T23:20:20.726Z"
   },
   {
    "duration": 10,
    "start_time": "2024-09-04T23:20:24.061Z"
   },
   {
    "duration": 9,
    "start_time": "2024-09-04T23:21:01.060Z"
   },
   {
    "duration": 116,
    "start_time": "2024-09-04T23:21:01.714Z"
   },
   {
    "duration": 874,
    "start_time": "2024-09-04T23:21:05.433Z"
   },
   {
    "duration": 11,
    "start_time": "2024-09-04T23:21:09.152Z"
   },
   {
    "duration": 10,
    "start_time": "2024-09-04T23:21:20.140Z"
   },
   {
    "duration": 119,
    "start_time": "2024-09-04T23:21:22.031Z"
   },
   {
    "duration": 84,
    "start_time": "2024-09-04T23:21:27.034Z"
   },
   {
    "duration": 11,
    "start_time": "2024-09-04T23:21:29.913Z"
   },
   {
    "duration": 175,
    "start_time": "2024-09-04T23:21:32.252Z"
   },
   {
    "duration": 5,
    "start_time": "2024-09-04T23:21:36.308Z"
   },
   {
    "duration": 5,
    "start_time": "2024-09-04T23:21:39.577Z"
   },
   {
    "duration": 2442,
    "start_time": "2024-09-04T23:21:44.763Z"
   },
   {
    "duration": 2366,
    "start_time": "2024-09-04T23:21:57.106Z"
   },
   {
    "duration": 1151,
    "start_time": "2024-09-05T04:54:56.276Z"
   },
   {
    "duration": 68,
    "start_time": "2024-09-05T04:54:57.429Z"
   },
   {
    "duration": 11,
    "start_time": "2024-09-05T04:54:57.499Z"
   },
   {
    "duration": 46,
    "start_time": "2024-09-05T04:54:57.513Z"
   },
   {
    "duration": 23,
    "start_time": "2024-09-05T04:54:57.560Z"
   },
   {
    "duration": 12,
    "start_time": "2024-09-05T04:54:57.599Z"
   },
   {
    "duration": 18,
    "start_time": "2024-09-05T04:54:57.613Z"
   },
   {
    "duration": 25,
    "start_time": "2024-09-05T04:54:57.633Z"
   },
   {
    "duration": 21,
    "start_time": "2024-09-05T04:54:57.660Z"
   },
   {
    "duration": 19,
    "start_time": "2024-09-05T04:54:57.685Z"
   },
   {
    "duration": 11,
    "start_time": "2024-09-05T04:54:57.708Z"
   },
   {
    "duration": 218,
    "start_time": "2024-09-05T04:54:57.721Z"
   },
   {
    "duration": 213,
    "start_time": "2024-09-05T04:54:57.941Z"
   },
   {
    "duration": 10,
    "start_time": "2024-09-05T04:54:58.156Z"
   },
   {
    "duration": 245,
    "start_time": "2024-09-05T04:54:58.168Z"
   },
   {
    "duration": 1435,
    "start_time": "2024-09-05T04:54:58.415Z"
   },
   {
    "duration": 16,
    "start_time": "2024-09-05T04:54:59.852Z"
   },
   {
    "duration": 220,
    "start_time": "2024-09-05T04:54:59.871Z"
   },
   {
    "duration": 20,
    "start_time": "2024-09-05T04:55:00.097Z"
   },
   {
    "duration": 11,
    "start_time": "2024-09-05T04:55:00.119Z"
   },
   {
    "duration": 229,
    "start_time": "2024-09-05T04:55:00.133Z"
   },
   {
    "duration": 12,
    "start_time": "2024-09-05T04:55:00.367Z"
   },
   {
    "duration": 10,
    "start_time": "2024-09-05T04:55:00.381Z"
   },
   {
    "duration": 3295,
    "start_time": "2024-09-05T04:55:00.392Z"
   },
   {
    "duration": 2,
    "start_time": "2024-09-05T04:56:57.189Z"
   },
   {
    "duration": 18,
    "start_time": "2024-09-05T04:56:57.194Z"
   },
   {
    "duration": 14,
    "start_time": "2024-09-05T04:56:57.213Z"
   },
   {
    "duration": 14,
    "start_time": "2024-09-05T04:56:57.235Z"
   },
   {
    "duration": 21,
    "start_time": "2024-09-05T04:56:57.250Z"
   },
   {
    "duration": 6,
    "start_time": "2024-09-05T04:56:57.273Z"
   },
   {
    "duration": 9,
    "start_time": "2024-09-05T04:56:57.280Z"
   },
   {
    "duration": 4,
    "start_time": "2024-09-05T04:56:57.290Z"
   },
   {
    "duration": 5,
    "start_time": "2024-09-05T04:56:57.301Z"
   },
   {
    "duration": 4,
    "start_time": "2024-09-05T04:56:57.307Z"
   },
   {
    "duration": 3,
    "start_time": "2024-09-05T04:56:57.313Z"
   },
   {
    "duration": 169,
    "start_time": "2024-09-05T04:56:57.318Z"
   },
   {
    "duration": 238,
    "start_time": "2024-09-05T04:56:57.489Z"
   },
   {
    "duration": 34,
    "start_time": "2024-09-05T04:56:57.737Z"
   },
   {
    "duration": 170,
    "start_time": "2024-09-05T04:56:57.773Z"
   },
   {
    "duration": 1227,
    "start_time": "2024-09-05T04:56:57.956Z"
   },
   {
    "duration": 9,
    "start_time": "2024-09-05T04:56:59.186Z"
   },
   {
    "duration": 274,
    "start_time": "2024-09-05T04:56:59.197Z"
   },
   {
    "duration": 17,
    "start_time": "2024-09-05T04:56:59.472Z"
   },
   {
    "duration": 8,
    "start_time": "2024-09-05T04:56:59.490Z"
   },
   {
    "duration": 218,
    "start_time": "2024-09-05T04:56:59.500Z"
   },
   {
    "duration": 21,
    "start_time": "2024-09-05T04:56:59.720Z"
   },
   {
    "duration": 32,
    "start_time": "2024-09-05T04:56:59.748Z"
   },
   {
    "duration": 3095,
    "start_time": "2024-09-05T04:56:59.791Z"
   },
   {
    "duration": 2523,
    "start_time": "2024-09-05T21:35:49.849Z"
   },
   {
    "duration": 21,
    "start_time": "2024-09-05T21:36:05.752Z"
   },
   {
    "duration": 11,
    "start_time": "2024-09-05T21:36:08.902Z"
   },
   {
    "duration": 11,
    "start_time": "2024-09-05T21:36:11.778Z"
   },
   {
    "duration": 7,
    "start_time": "2024-09-05T21:36:16.750Z"
   },
   {
    "duration": 6,
    "start_time": "2024-09-05T21:36:20.207Z"
   },
   {
    "duration": 6,
    "start_time": "2024-09-05T21:36:33.455Z"
   },
   {
    "duration": 4,
    "start_time": "2024-09-05T21:36:37.414Z"
   },
   {
    "duration": 6,
    "start_time": "2024-09-05T21:36:39.921Z"
   },
   {
    "duration": 5,
    "start_time": "2024-09-05T21:36:41.872Z"
   },
   {
    "duration": 3,
    "start_time": "2024-09-05T21:36:50.343Z"
   },
   {
    "duration": 130,
    "start_time": "2024-09-05T21:36:54.038Z"
   },
   {
    "duration": 151,
    "start_time": "2024-09-05T21:37:00.839Z"
   },
   {
    "duration": 214,
    "start_time": "2024-09-05T21:41:47.294Z"
   },
   {
    "duration": 15,
    "start_time": "2024-09-05T21:46:52.331Z"
   },
   {
    "duration": 652,
    "start_time": "2024-09-05T21:47:00.064Z"
   },
   {
    "duration": 226,
    "start_time": "2024-09-05T21:47:09.327Z"
   },
   {
    "duration": 5,
    "start_time": "2024-09-05T21:50:42.053Z"
   },
   {
    "duration": 5,
    "start_time": "2024-09-05T21:53:15.635Z"
   },
   {
    "duration": 16,
    "start_time": "2024-09-05T21:53:24.770Z"
   },
   {
    "duration": 72,
    "start_time": "2024-09-05T21:53:32.843Z"
   },
   {
    "duration": 71,
    "start_time": "2024-09-05T22:01:23.926Z"
   },
   {
    "duration": 68,
    "start_time": "2024-09-05T22:01:39.836Z"
   },
   {
    "duration": 5,
    "start_time": "2024-09-05T22:16:22.897Z"
   },
   {
    "duration": 4,
    "start_time": "2024-09-05T22:16:31.199Z"
   },
   {
    "duration": 6,
    "start_time": "2024-09-05T22:16:56.764Z"
   },
   {
    "duration": 9,
    "start_time": "2024-09-05T22:30:08.966Z"
   },
   {
    "duration": 114,
    "start_time": "2024-09-05T22:30:10.487Z"
   },
   {
    "duration": 866,
    "start_time": "2024-09-05T22:30:15.048Z"
   },
   {
    "duration": 16,
    "start_time": "2024-09-05T22:34:23.643Z"
   },
   {
    "duration": 10,
    "start_time": "2024-09-05T22:34:25.934Z"
   }
  ],
  "kernelspec": {
   "display_name": "Python 3 (ipykernel)",
   "language": "python",
   "name": "python3"
  },
  "language_info": {
   "codemirror_mode": {
    "name": "ipython",
    "version": 3
   },
   "file_extension": ".py",
   "mimetype": "text/x-python",
   "name": "python",
   "nbconvert_exporter": "python",
   "pygments_lexer": "ipython3",
   "version": "3.9.19"
  },
  "toc": {
   "base_numbering": 1,
   "nav_menu": {},
   "number_sections": true,
   "sideBar": true,
   "skip_h1_title": true,
   "title_cell": "Table of Contents",
   "title_sidebar": "Contents",
   "toc_cell": false,
   "toc_position": {},
   "toc_section_display": true,
   "toc_window_display": false
  }
 },
 "nbformat": 4,
 "nbformat_minor": 2
}
